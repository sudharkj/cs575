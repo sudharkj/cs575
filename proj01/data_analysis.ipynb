{
 "cells": [
  {
   "cell_type": "code",
   "execution_count": 1,
   "metadata": {},
   "outputs": [],
   "source": [
    "import os\n",
    "import pandas as pd\n",
    "import matplotlib.pyplot as plt"
   ]
  },
  {
   "cell_type": "code",
   "execution_count": 2,
   "metadata": {},
   "outputs": [],
   "source": [
    "li = []\n",
    "for filename in os.listdir('data/input'):\n",
    "    df = pd.read_csv(\"data/input/{filename}\".format(filename=filename))\n",
    "    li.append(df)\n",
    "sim_df = pd.concat(li, axis=0, ignore_index=True)"
   ]
  },
  {
   "cell_type": "code",
   "execution_count": 3,
   "metadata": {},
   "outputs": [
    {
     "name": "stdout",
     "output_type": "stream",
     "text": [
      "   Iteration  Threads   Trials  Probability  MegaTrialsPSec  MaxPerformance\n",
      "0          1        2  2500000         0.13           85.68           85.68\n",
      "1          2        2  2500000         0.13           85.72           85.72\n",
      "2          3        2  2500000         0.13           86.26           86.26\n",
      "3          4        2  2500000         0.13           84.56           86.26\n",
      "4          5        2  2500000         0.13           83.21           86.26\n"
     ]
    }
   ],
   "source": [
    "print(sim_df.head())"
   ]
  },
  {
   "cell_type": "code",
   "execution_count": 4,
   "metadata": {},
   "outputs": [
    {
     "name": "stdout",
     "output_type": "stream",
     "text": [
      "    Iteration  Threads\n",
      "0           1        2\n",
      "1           2        2\n",
      "2           3        2\n",
      "3           4        2\n",
      "4           5        2\n",
      "5           6        2\n",
      "6           7        2\n",
      "7           8        2\n",
      "8           9        2\n",
      "9          10        2\n",
      "10          1        1\n",
      "11          2        1\n"
     ]
    }
   ],
   "source": [
    "print(sim_df[:12][['Iteration', 'Threads']])"
   ]
  },
  {
   "cell_type": "code",
   "execution_count": 5,
   "metadata": {},
   "outputs": [
    {
     "data": {
      "text/html": [
       "<div>\n",
       "<style scoped>\n",
       "    .dataframe tbody tr th:only-of-type {\n",
       "        vertical-align: middle;\n",
       "    }\n",
       "\n",
       "    .dataframe tbody tr th {\n",
       "        vertical-align: top;\n",
       "    }\n",
       "\n",
       "    .dataframe thead th {\n",
       "        text-align: right;\n",
       "    }\n",
       "</style>\n",
       "<table border=\"1\" class=\"dataframe\">\n",
       "  <thead>\n",
       "    <tr style=\"text-align: right;\">\n",
       "      <th></th>\n",
       "      <th>Trials</th>\n",
       "      <th>Threads</th>\n",
       "      <th>MaxPerformance</th>\n",
       "      <th>Probability</th>\n",
       "    </tr>\n",
       "  </thead>\n",
       "  <tbody>\n",
       "    <tr>\n",
       "      <th>29</th>\n",
       "      <td>0</td>\n",
       "      <td>1</td>\n",
       "      <td>0.00</td>\n",
       "      <td>0.00</td>\n",
       "    </tr>\n",
       "    <tr>\n",
       "      <th>39</th>\n",
       "      <td>0</td>\n",
       "      <td>2</td>\n",
       "      <td>0.00</td>\n",
       "      <td>0.00</td>\n",
       "    </tr>\n",
       "    <tr>\n",
       "      <th>59</th>\n",
       "      <td>0</td>\n",
       "      <td>3</td>\n",
       "      <td>0.00</td>\n",
       "      <td>0.00</td>\n",
       "    </tr>\n",
       "    <tr>\n",
       "      <th>139</th>\n",
       "      <td>0</td>\n",
       "      <td>4</td>\n",
       "      <td>0.00</td>\n",
       "      <td>0.00</td>\n",
       "    </tr>\n",
       "    <tr>\n",
       "      <th>19</th>\n",
       "      <td>500000</td>\n",
       "      <td>1</td>\n",
       "      <td>43.72</td>\n",
       "      <td>0.13</td>\n",
       "    </tr>\n",
       "    <tr>\n",
       "      <th>219</th>\n",
       "      <td>500000</td>\n",
       "      <td>2</td>\n",
       "      <td>86.44</td>\n",
       "      <td>0.13</td>\n",
       "    </tr>\n",
       "    <tr>\n",
       "      <th>109</th>\n",
       "      <td>500000</td>\n",
       "      <td>3</td>\n",
       "      <td>129.31</td>\n",
       "      <td>0.13</td>\n",
       "    </tr>\n",
       "    <tr>\n",
       "      <th>99</th>\n",
       "      <td>500000</td>\n",
       "      <td>4</td>\n",
       "      <td>170.34</td>\n",
       "      <td>0.13</td>\n",
       "    </tr>\n",
       "    <tr>\n",
       "      <th>79</th>\n",
       "      <td>1000000</td>\n",
       "      <td>1</td>\n",
       "      <td>43.67</td>\n",
       "      <td>0.13</td>\n",
       "    </tr>\n",
       "    <tr>\n",
       "      <th>199</th>\n",
       "      <td>1000000</td>\n",
       "      <td>2</td>\n",
       "      <td>86.75</td>\n",
       "      <td>0.13</td>\n",
       "    </tr>\n",
       "    <tr>\n",
       "      <th>149</th>\n",
       "      <td>1000000</td>\n",
       "      <td>3</td>\n",
       "      <td>128.17</td>\n",
       "      <td>0.13</td>\n",
       "    </tr>\n",
       "    <tr>\n",
       "      <th>209</th>\n",
       "      <td>1000000</td>\n",
       "      <td>4</td>\n",
       "      <td>169.27</td>\n",
       "      <td>0.13</td>\n",
       "    </tr>\n",
       "    <tr>\n",
       "      <th>159</th>\n",
       "      <td>1500000</td>\n",
       "      <td>1</td>\n",
       "      <td>43.45</td>\n",
       "      <td>0.13</td>\n",
       "    </tr>\n",
       "    <tr>\n",
       "      <th>239</th>\n",
       "      <td>1500000</td>\n",
       "      <td>2</td>\n",
       "      <td>86.55</td>\n",
       "      <td>0.13</td>\n",
       "    </tr>\n",
       "    <tr>\n",
       "      <th>169</th>\n",
       "      <td>1500000</td>\n",
       "      <td>3</td>\n",
       "      <td>128.93</td>\n",
       "      <td>0.13</td>\n",
       "    </tr>\n",
       "    <tr>\n",
       "      <th>229</th>\n",
       "      <td>1500000</td>\n",
       "      <td>4</td>\n",
       "      <td>168.73</td>\n",
       "      <td>0.13</td>\n",
       "    </tr>\n",
       "    <tr>\n",
       "      <th>129</th>\n",
       "      <td>2000000</td>\n",
       "      <td>1</td>\n",
       "      <td>43.55</td>\n",
       "      <td>0.13</td>\n",
       "    </tr>\n",
       "    <tr>\n",
       "      <th>179</th>\n",
       "      <td>2000000</td>\n",
       "      <td>2</td>\n",
       "      <td>85.16</td>\n",
       "      <td>0.13</td>\n",
       "    </tr>\n",
       "    <tr>\n",
       "      <th>69</th>\n",
       "      <td>2000000</td>\n",
       "      <td>3</td>\n",
       "      <td>128.76</td>\n",
       "      <td>0.13</td>\n",
       "    </tr>\n",
       "    <tr>\n",
       "      <th>89</th>\n",
       "      <td>2000000</td>\n",
       "      <td>4</td>\n",
       "      <td>168.37</td>\n",
       "      <td>0.13</td>\n",
       "    </tr>\n",
       "    <tr>\n",
       "      <th>189</th>\n",
       "      <td>2500000</td>\n",
       "      <td>1</td>\n",
       "      <td>43.61</td>\n",
       "      <td>0.13</td>\n",
       "    </tr>\n",
       "    <tr>\n",
       "      <th>9</th>\n",
       "      <td>2500000</td>\n",
       "      <td>2</td>\n",
       "      <td>86.26</td>\n",
       "      <td>0.13</td>\n",
       "    </tr>\n",
       "    <tr>\n",
       "      <th>119</th>\n",
       "      <td>2500000</td>\n",
       "      <td>3</td>\n",
       "      <td>127.73</td>\n",
       "      <td>0.13</td>\n",
       "    </tr>\n",
       "    <tr>\n",
       "      <th>49</th>\n",
       "      <td>2500000</td>\n",
       "      <td>4</td>\n",
       "      <td>169.89</td>\n",
       "      <td>0.13</td>\n",
       "    </tr>\n",
       "  </tbody>\n",
       "</table>\n",
       "</div>"
      ],
      "text/plain": [
       "      Trials  Threads  MaxPerformance  Probability\n",
       "29         0        1            0.00         0.00\n",
       "39         0        2            0.00         0.00\n",
       "59         0        3            0.00         0.00\n",
       "139        0        4            0.00         0.00\n",
       "19    500000        1           43.72         0.13\n",
       "219   500000        2           86.44         0.13\n",
       "109   500000        3          129.31         0.13\n",
       "99    500000        4          170.34         0.13\n",
       "79   1000000        1           43.67         0.13\n",
       "199  1000000        2           86.75         0.13\n",
       "149  1000000        3          128.17         0.13\n",
       "209  1000000        4          169.27         0.13\n",
       "159  1500000        1           43.45         0.13\n",
       "239  1500000        2           86.55         0.13\n",
       "169  1500000        3          128.93         0.13\n",
       "229  1500000        4          168.73         0.13\n",
       "129  2000000        1           43.55         0.13\n",
       "179  2000000        2           85.16         0.13\n",
       "69   2000000        3          128.76         0.13\n",
       "89   2000000        4          168.37         0.13\n",
       "189  2500000        1           43.61         0.13\n",
       "9    2500000        2           86.26         0.13\n",
       "119  2500000        3          127.73         0.13\n",
       "49   2500000        4          169.89         0.13"
      ]
     },
     "execution_count": 5,
     "metadata": {},
     "output_type": "execute_result"
    }
   ],
   "source": [
    "sim_df = sim_df[sim_df['Iteration'] == 10]\n",
    "results_df = sim_df[['Trials', 'Threads', 'MaxPerformance', 'Probability']]\n",
    "results_df = results_df.sort_values(['Trials', 'Threads'])\n",
    "results_df.to_csv('data/output/results.csv', index=False)\n",
    "results_df"
   ]
  },
  {
   "cell_type": "code",
   "execution_count": 6,
   "metadata": {},
   "outputs": [
    {
     "data": {
      "text/plain": [
       "array([1, 2, 3, 4])"
      ]
     },
     "execution_count": 6,
     "metadata": {},
     "output_type": "execute_result"
    }
   ],
   "source": [
    "unique_threads = results_df['Threads'].unique()\n",
    "unique_threads.sort()\n",
    "unique_threads"
   ]
  },
  {
   "cell_type": "code",
   "execution_count": 7,
   "metadata": {},
   "outputs": [
    {
     "data": {
      "image/png": "[encoded data removed]",
      "text/plain": [
       "<Figure size 432x288 with 1 Axes>"
      ]
     },
     "metadata": {
      "needs_background": "light"
     },
     "output_type": "display_data"
    },
    {
     "data": {
      "text/plain": [
       "<Figure size 432x288 with 0 Axes>"
      ]
     },
     "metadata": {},
     "output_type": "display_data"
    }
   ],
   "source": [
    "# plot MegaTrials/Second vs # of Trials\n",
    "plt.clf()\n",
    "for threads in unique_threads:\n",
    "    df = results_df[results_df['Threads'] == threads]\n",
    "    df = df.sort_values('Trials')\n",
    "    x = df['Trials'].values\n",
    "    y = df['MaxPerformance'].values\n",
    "    plt.plot(x, y, marker='o', label='{} threads'.format(threads))\n",
    "plt.xlabel('# of Monte Carlo Trials')\n",
    "plt.ylabel('MegaTrials/Second')\n",
    "plt.title('Monte Carlo Performance')\n",
    "plt.legend()\n",
    "plt.show()\n",
    "plt.savefig('data/output/mts_vs_trials.png')"
   ]
  },
  {
   "cell_type": "code",
   "execution_count": 8,
   "metadata": {},
   "outputs": [
    {
     "data": {
      "text/plain": [
       "array([      0,  500000, 1000000, 1500000, 2000000, 2500000])"
      ]
     },
     "execution_count": 8,
     "metadata": {},
     "output_type": "execute_result"
    }
   ],
   "source": [
    "unique_trials = results_df['Trials'].unique()\n",
    "unique_trials.sort()\n",
    "unique_trials"
   ]
  },
  {
   "cell_type": "code",
   "execution_count": 9,
   "metadata": {},
   "outputs": [
    {
     "data": {
      "image/png": "[encoded data removed]",
      "text/plain": [
       "<Figure size 432x288 with 1 Axes>"
      ]
     },
     "metadata": {
      "needs_background": "light"
     },
     "output_type": "display_data"
    },
    {
     "data": {
      "text/plain": [
       "<Figure size 432x288 with 0 Axes>"
      ]
     },
     "metadata": {},
     "output_type": "display_data"
    }
   ],
   "source": [
    "# plot MegaTrials/Second vs # of Threads\n",
    "plt.clf()\n",
    "unique_trials = results_df['Trials'].unique()\n",
    "unique_trials.sort()\n",
    "for trials in unique_trials:\n",
    "    df = results_df[results_df['Trials'] == trials]\n",
    "    df = df.sort_values('Threads')\n",
    "    x = df['Threads'].values\n",
    "    y = df['MaxPerformance'].values\n",
    "    plt.plot(x, y, marker='o', label='{} trials'.format(trials))\n",
    "plt.xlabel('# of Threads')\n",
    "plt.ylabel('MegaTrials/Second')\n",
    "plt.title('Monte Carlo Performance')\n",
    "plt.legend()\n",
    "plt.show()\n",
    "plt.savefig('data/output/mts_vs_threads.png')"
   ]
  },
  {
   "cell_type": "code",
   "execution_count": 10,
   "metadata": {},
   "outputs": [
    {
     "data": {
      "text/plain": [
       "'Estimate of actual probability = 0.13'"
      ]
     },
     "execution_count": 10,
     "metadata": {},
     "output_type": "execute_result"
    }
   ],
   "source": [
    "# print estimated probability\n",
    "'Estimate of actual probability = {}'.format(results_df['Probability'].values[-1])"
   ]
  },
  {
   "cell_type": "code",
   "execution_count": 11,
   "metadata": {},
   "outputs": [
    {
     "data": {
      "text/plain": [
       "43.61"
      ]
     },
     "execution_count": 11,
     "metadata": {},
     "output_type": "execute_result"
    }
   ],
   "source": [
    "# calculate fp\n",
    "t1 = results_df[results_df['Threads'] == 1]['MaxPerformance'].values[-1]\n",
    "t1"
   ]
  },
  {
   "cell_type": "code",
   "execution_count": 12,
   "metadata": {},
   "outputs": [
    {
     "data": {
      "text/plain": [
       "169.89"
      ]
     },
     "execution_count": 12,
     "metadata": {},
     "output_type": "execute_result"
    }
   ],
   "source": [
    "t4 = results_df[results_df['Threads'] == 4]['MaxPerformance'].values[-1]\n",
    "t4"
   ]
  },
  {
   "cell_type": "code",
   "execution_count": 13,
   "metadata": {},
   "outputs": [
    {
     "data": {
      "text/plain": [
       "3.8956661316211876"
      ]
     },
     "execution_count": 13,
     "metadata": {},
     "output_type": "execute_result"
    }
   ],
   "source": [
    "speedup = t4 / t1\n",
    "speedup"
   ]
  },
  {
   "cell_type": "code",
   "execution_count": 14,
   "metadata": {},
   "outputs": [
    {
     "data": {
      "text/plain": [
       "'Parallel Fraction = 0.9910726548551022'"
      ]
     },
     "execution_count": 14,
     "metadata": {},
     "output_type": "execute_result"
    }
   ],
   "source": [
    "fp = (4/3) * (1 - (1/speedup))\n",
    "'Parallel Fraction = {}'.format(fp)"
   ]
  },
  {
   "cell_type": "code",
   "execution_count": null,
   "metadata": {},
   "outputs": [],
   "source": []
  }
 ],
 "metadata": {
  "kernelspec": {
   "display_name": "Python 3",
   "language": "python",
   "name": "python3"
  },
  "language_info": {
   "codemirror_mode": {
    "name": "ipython",
    "version": 3
   },
   "file_extension": ".py",
   "mimetype": "text/x-python",
   "name": "python",
   "nbconvert_exporter": "python",
   "pygments_lexer": "ipython3",
   "version": "3.7.7"
  }
 },
 "nbformat": 4,
 "nbformat_minor": 4
}
